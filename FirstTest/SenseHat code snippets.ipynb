{
 "cells": [
  {
   "cell_type": "code",
   "execution_count": 3,
   "metadata": {
    "collapsed": true
   },
   "outputs": [],
   "source": [
    "from sense_hat import SenseHat\n",
    "sense = SenseHat()\n",
    "sense.show_message(\"42 the Answer to Everything\")\n",
    "sense.show_letter(\"Z\")"
   ]
  },
  {
   "cell_type": "code",
   "execution_count": 9,
   "metadata": {
    "collapsed": true
   },
   "outputs": [],
   "source": [
    "r = 48\n",
    "g = 0\n",
    "b = 48\n",
    "\n",
    "sense.clear((r, g, b))"
   ]
  },
  {
   "cell_type": "code",
   "execution_count": 9,
   "metadata": {
    "collapsed": true
   },
   "outputs": [],
   "source": [
    "sense.clear((0,0,0))\n",
    "sense.set_pixel(2, 2, (0, 0, 255))\n",
    "sense.set_pixel(4, 2, (0, 0, 255))\n",
    "sense.set_pixel(3, 4, (100, 0, 0))\n",
    "sense.set_pixel(1, 5, (255, 0, 0))\n",
    "sense.set_pixel(2, 6, (255, 0, 0))\n",
    "sense.set_pixel(3, 6, (255, 0, 0))\n",
    "sense.set_pixel(4, 6, (255, 0, 0))\n",
    "sense.set_pixel(5, 5, (255, 0, 0))"
   ]
  },
  {
   "cell_type": "code",
   "execution_count": 12,
   "metadata": {},
   "outputs": [
    {
     "ename": "KeyboardInterrupt",
     "evalue": "",
     "output_type": "error",
     "traceback": [
      "\u001b[0;31m---------------------------------------------------------------------------\u001b[0m",
      "\u001b[0;31mKeyboardInterrupt\u001b[0m                         Traceback (most recent call last)",
      "\u001b[0;32m<ipython-input-12-9717e7286070>\u001b[0m in \u001b[0;36m<module>\u001b[0;34m()\u001b[0m\n\u001b[1;32m     21\u001b[0m \u001b[0;34m\u001b[0m\u001b[0m\n\u001b[1;32m     22\u001b[0m \u001b[0;32mwhile\u001b[0m \u001b[0;32mTrue\u001b[0m\u001b[0;34m:\u001b[0m\u001b[0;34m\u001b[0m\u001b[0m\n\u001b[0;32m---> 23\u001b[0;31m     \u001b[0msleep\u001b[0m\u001b[0;34m(\u001b[0m\u001b[0;36m0.01\u001b[0m\u001b[0;34m)\u001b[0m\u001b[0;34m\u001b[0m\u001b[0m\n\u001b[0m\u001b[1;32m     24\u001b[0m     \u001b[0msense\u001b[0m\u001b[0;34m.\u001b[0m\u001b[0mflip_h\u001b[0m\u001b[0;34m(\u001b[0m\u001b[0;34m)\u001b[0m\u001b[0;34m\u001b[0m\u001b[0m\n",
      "\u001b[0;31mKeyboardInterrupt\u001b[0m: "
     ]
    }
   ],
   "source": [
    "from time import sleep\n",
    "\n",
    "w = (150, 150, 150)\n",
    "b = (0, 0, 255)\n",
    "e = (0, 0, 0)\n",
    "\n",
    "image = [\n",
    "e,e,e,e,e,e,e,e,\n",
    "e,e,e,e,e,e,e,e,\n",
    "w,w,w,e,e,w,w,w,\n",
    "w,w,b,e,e,w,w,b,\n",
    "w,w,w,e,e,w,w,w,\n",
    "e,e,e,e,e,e,e,e,\n",
    "e,e,e,e,e,e,e,e,\n",
    "e,e,e,e,e,e,e,e\n",
    "]\n",
    "\n",
    "sense.set_pixels(image)\n",
    "\n",
    "while True:\n",
    "    sleep(0.1)\n",
    "    sense.flip_h()"
   ]
  },
  {
   "cell_type": "code",
   "execution_count": 18,
   "metadata": {},
   "outputs": [
    {
     "name": "stdout",
     "output_type": "stream",
     "text": [
      "1020.671142578125\n"
     ]
    }
   ],
   "source": [
    "sense.clear()\n",
    "\n",
    "pressure = sense.get_pressure()\n",
    "print(pressure)"
   ]
  },
  {
   "cell_type": "code",
   "execution_count": 16,
   "metadata": {},
   "outputs": [
    {
     "name": "stdout",
     "output_type": "stream",
     "text": [
      "31.328346252441406\n"
     ]
    }
   ],
   "source": [
    "temp = sense.get_temperature()\n",
    "print(temp)"
   ]
  },
  {
   "cell_type": "code",
   "execution_count": 31,
   "metadata": {},
   "outputs": [
    {
     "ename": "KeyboardInterrupt",
     "evalue": "",
     "output_type": "error",
     "traceback": [
      "\u001b[0;31m---------------------------------------------------------------------------\u001b[0m",
      "\u001b[0;31mKeyboardInterrupt\u001b[0m                         Traceback (most recent call last)",
      "\u001b[0;32m<ipython-input-31-a67b6e40aead>\u001b[0m in \u001b[0;36m<module>\u001b[0;34m()\u001b[0m\n\u001b[1;32m     18\u001b[0m   \u001b[0;31m# Display the scrolling message\u001b[0m\u001b[0;34m\u001b[0m\u001b[0;34m\u001b[0m\u001b[0m\n\u001b[1;32m     19\u001b[0m   \u001b[0msense\u001b[0m\u001b[0;34m.\u001b[0m\u001b[0mset_rotation\u001b[0m\u001b[0;34m(\u001b[0m\u001b[0;36m0\u001b[0m\u001b[0;34m)\u001b[0m\u001b[0;34m\u001b[0m\u001b[0m\n\u001b[0;32m---> 20\u001b[0;31m   \u001b[0msense\u001b[0m\u001b[0;34m.\u001b[0m\u001b[0mshow_message\u001b[0m\u001b[0;34m(\u001b[0m\u001b[0mmessage\u001b[0m\u001b[0;34m,\u001b[0m \u001b[0mscroll_speed\u001b[0m\u001b[0;34m=\u001b[0m\u001b[0;36m0.05\u001b[0m\u001b[0;34m)\u001b[0m\u001b[0;34m\u001b[0m\u001b[0m\n\u001b[0m",
      "\u001b[0;32m/usr/lib/python3/dist-packages/sense_hat/sense_hat.py\u001b[0m in \u001b[0;36mshow_message\u001b[0;34m(self, text_string, scroll_speed, text_colour, back_colour)\u001b[0m\n\u001b[1;32m    463\u001b[0m             \u001b[0mend\u001b[0m \u001b[0;34m=\u001b[0m \u001b[0mstart\u001b[0m \u001b[0;34m+\u001b[0m \u001b[0;36m64\u001b[0m\u001b[0;34m\u001b[0m\u001b[0m\n\u001b[1;32m    464\u001b[0m             \u001b[0mself\u001b[0m\u001b[0;34m.\u001b[0m\u001b[0mset_pixels\u001b[0m\u001b[0;34m(\u001b[0m\u001b[0mcoloured_pixels\u001b[0m\u001b[0;34m[\u001b[0m\u001b[0mstart\u001b[0m\u001b[0;34m:\u001b[0m\u001b[0mend\u001b[0m\u001b[0;34m]\u001b[0m\u001b[0;34m)\u001b[0m\u001b[0;34m\u001b[0m\u001b[0m\n\u001b[0;32m--> 465\u001b[0;31m             \u001b[0mtime\u001b[0m\u001b[0;34m.\u001b[0m\u001b[0msleep\u001b[0m\u001b[0;34m(\u001b[0m\u001b[0mscroll_speed\u001b[0m\u001b[0;34m)\u001b[0m\u001b[0;34m\u001b[0m\u001b[0m\n\u001b[0m\u001b[1;32m    466\u001b[0m         \u001b[0mself\u001b[0m\u001b[0;34m.\u001b[0m\u001b[0m_rotation\u001b[0m \u001b[0;34m=\u001b[0m \u001b[0mprevious_rotation\u001b[0m\u001b[0;34m\u001b[0m\u001b[0m\n\u001b[1;32m    467\u001b[0m \u001b[0;34m\u001b[0m\u001b[0m\n",
      "\u001b[0;31mKeyboardInterrupt\u001b[0m: "
     ]
    }
   ],
   "source": [
    "sense.clear()\n",
    "while True:\n",
    "\n",
    "  # Take readings from all three sensors\n",
    "  t = sense.get_temperature()\n",
    "  p = sense.get_pressure() / 100. # millibars to Pa\n",
    "  h = sense.get_humidity()\n",
    "\n",
    "  # Round the values to one decimal place\n",
    "  t = round(t, 1)\n",
    "  p = round(p, 1)\n",
    "  h = round(h, 1)\n",
    "  \n",
    "  # Create the message\n",
    "  # str() converts the value to a string so it can be concatenated\n",
    "  message = \"Temperature: \" + str(t) + \" Pressure: \" + str(p) + \" Humidity: \" + str(h)\n",
    "  \n",
    "  # Display the scrolling message\n",
    "  sense.set_rotation(0)\n",
    "  sense.show_message(message, scroll_speed=0.05)"
   ]
  },
  {
   "cell_type": "code",
   "execution_count": 36,
   "metadata": {},
   "outputs": [
    {
     "name": "stdout",
     "output_type": "stream",
     "text": [
      "x=0.0, y=-0.0, z=1.0\n",
      "x=0.0, y=-0.0, z=1.0\n",
      "x=0.0, y=-0.0, z=1.0\n",
      "x=0.0, y=-0.0, z=1.0\n",
      "x=0.0, y=-0.0, z=1.0\n",
      "x=0.0, y=-0.0, z=1.0\n",
      "x=0.0, y=-0.0, z=1.0\n",
      "x=0.0, y=-0.0, z=1.0\n",
      "x=0.0, y=-0.0, z=1.0\n",
      "x=0.5, y=0.1, z=0.9\n",
      "x=0.6, y=0.0, z=0.8\n",
      "x=0.7, y=0.0, z=0.7\n",
      "x=0.7, y=0.1, z=0.7\n",
      "x=0.6, y=0.1, z=0.7\n",
      "x=0.6, y=0.1, z=0.7\n",
      "x=0.6, y=0.1, z=0.8\n",
      "x=0.7, y=0.1, z=0.7\n",
      "x=0.7, y=0.0, z=0.7\n",
      "x=0.5, y=0.4, z=0.6\n",
      "x=0.5, y=0.5, z=0.7\n",
      "x=0.5, y=0.5, z=0.7\n",
      "x=0.4, y=0.5, z=0.7\n",
      "x=0.5, y=0.5, z=0.7\n",
      "x=0.5, y=0.5, z=0.7\n",
      "x=0.5, y=0.5, z=0.7\n",
      "x=0.5, y=0.5, z=0.7\n",
      "x=0.5, y=0.5, z=0.7\n",
      "x=0.2, y=0.2, z=0.9\n",
      "x=0.1, y=-0.0, z=1.0\n",
      "x=0.0, y=0.0, z=1.0\n",
      "x=0.0, y=0.0, z=1.0\n",
      "x=0.0, y=0.0, z=1.0\n",
      "x=0.0, y=0.0, z=1.0\n",
      "x=0.0, y=0.0, z=1.0\n",
      "x=0.0, y=0.0, z=1.0\n",
      "x=0.0, y=0.0, z=1.0\n",
      "x=0.0, y=0.0, z=1.0\n",
      "x=0.0, y=0.0, z=1.0\n",
      "x=0.0, y=0.0, z=1.0\n",
      "x=0.0, y=0.0, z=1.0\n",
      "x=0.0, y=0.0, z=1.0\n",
      "x=0.0, y=0.0, z=1.0\n",
      "x=0.0, y=0.0, z=1.0\n",
      "x=0.0, y=0.0, z=1.0\n",
      "x=0.0, y=0.0, z=1.0\n",
      "x=0.0, y=0.0, z=1.0\n",
      "x=0.0, y=0.0, z=1.0\n",
      "x=0.0, y=0.0, z=1.0\n",
      "x=0.0, y=0.0, z=1.0\n",
      "x=0.0, y=0.0, z=1.0\n",
      "x=0.0, y=0.0, z=1.0\n",
      "x=0.0, y=0.0, z=1.0\n",
      "x=0.0, y=0.0, z=1.0\n",
      "x=0.0, y=0.0, z=1.0\n",
      "x=0.0, y=0.0, z=1.0\n",
      "x=0.0, y=0.0, z=1.0\n",
      "x=0.0, y=0.0, z=1.0\n",
      "x=0.0, y=0.0, z=1.0\n",
      "x=0.0, y=0.0, z=1.0\n",
      "x=0.0, y=0.0, z=1.0\n",
      "x=0.0, y=0.0, z=1.0\n",
      "x=0.0, y=0.0, z=1.0\n",
      "x=0.0, y=0.0, z=1.0\n",
      "x=0.0, y=0.0, z=1.0\n",
      "x=0.0, y=0.0, z=1.0\n",
      "x=0.0, y=0.0, z=1.0\n",
      "x=0.0, y=0.0, z=1.0\n",
      "x=0.0, y=0.0, z=1.0\n",
      "x=0.0, y=0.0, z=1.0\n",
      "x=0.0, y=0.0, z=1.0\n",
      "x=0.0, y=0.0, z=1.0\n",
      "x=0.0, y=0.0, z=1.0\n",
      "x=0.0, y=0.0, z=1.0\n",
      "x=0.0, y=0.0, z=1.0\n",
      "x=0.0, y=0.0, z=1.0\n",
      "x=0.0, y=0.0, z=1.0\n",
      "x=0.0, y=0.0, z=1.0\n",
      "x=0.0, y=0.0, z=1.0\n",
      "x=0.0, y=0.0, z=1.0\n",
      "x=0.0, y=0.0, z=1.0\n",
      "x=0.0, y=0.0, z=1.0\n",
      "x=0.0, y=0.0, z=1.0\n",
      "x=0.0, y=0.0, z=1.0\n",
      "x=0.0, y=0.0, z=1.0\n",
      "x=0.0, y=0.0, z=1.0\n",
      "x=0.0, y=0.0, z=1.0\n",
      "x=0.0, y=0.0, z=1.0\n",
      "x=0.0, y=0.0, z=1.0\n",
      "x=0.0, y=0.0, z=1.0\n",
      "x=0.0, y=0.0, z=1.0\n",
      "x=0.0, y=0.0, z=1.0\n",
      "x=0.0, y=0.0, z=1.0\n",
      "x=0.0, y=0.0, z=1.0\n",
      "x=0.0, y=0.0, z=1.0\n",
      "x=0.0, y=0.0, z=1.0\n",
      "x=0.0, y=0.0, z=1.0\n"
     ]
    },
    {
     "ename": "KeyboardInterrupt",
     "evalue": "",
     "output_type": "error",
     "traceback": [
      "\u001b[0;31m---------------------------------------------------------------------------\u001b[0m",
      "\u001b[0;31mKeyboardInterrupt\u001b[0m                         Traceback (most recent call last)",
      "\u001b[0;32m<ipython-input-36-6800192da54b>\u001b[0m in \u001b[0;36m<module>\u001b[0;34m()\u001b[0m\n\u001b[1;32m     10\u001b[0m \u001b[0;34m\u001b[0m\u001b[0m\n\u001b[1;32m     11\u001b[0m    \u001b[0mprint\u001b[0m\u001b[0;34m(\u001b[0m\u001b[0;34m\"x={0}, y={1}, z={2}\"\u001b[0m\u001b[0;34m.\u001b[0m\u001b[0mformat\u001b[0m\u001b[0;34m(\u001b[0m\u001b[0mx\u001b[0m\u001b[0;34m,\u001b[0m \u001b[0my\u001b[0m\u001b[0;34m,\u001b[0m \u001b[0mz\u001b[0m\u001b[0;34m)\u001b[0m\u001b[0;34m)\u001b[0m\u001b[0;34m\u001b[0m\u001b[0m\n\u001b[0;32m---> 12\u001b[0;31m    \u001b[0msleep\u001b[0m\u001b[0;34m(\u001b[0m\u001b[0;36m1\u001b[0m\u001b[0;34m)\u001b[0m\u001b[0;34m\u001b[0m\u001b[0m\n\u001b[0m",
      "\u001b[0;31mKeyboardInterrupt\u001b[0m: "
     ]
    }
   ],
   "source": [
    " while True:\n",
    "    acceleration = sense.get_accelerometer_raw()\n",
    "    x = acceleration['x']\n",
    "    y = acceleration['y']\n",
    "    z = acceleration['z']\n",
    "\n",
    "    x=round(x, 1)\n",
    "    y=round(y, 1)\n",
    "    z=round(z, 1)\n",
    "\n",
    "    print(\"x={0}, y={1}, z={2}\".format(x, y, z))\n",
    "    sleep(1)"
   ]
  },
  {
   "cell_type": "code",
   "execution_count": 1,
   "metadata": {},
   "outputs": [
    {
     "ename": "NameError",
     "evalue": "name 'sense' is not defined",
     "output_type": "error",
     "traceback": [
      "\u001b[0;31m---------------------------------------------------------------------------\u001b[0m",
      "\u001b[0;31mNameError\u001b[0m                                 Traceback (most recent call last)",
      "\u001b[0;32m<ipython-input-1-fc458a6eb532>\u001b[0m in \u001b[0;36m<module>\u001b[0;34m()\u001b[0m\n\u001b[1;32m      1\u001b[0m \u001b[0;34m\u001b[0m\u001b[0m\n\u001b[1;32m      2\u001b[0m \u001b[0;31m# Display the letter J\u001b[0m\u001b[0;34m\u001b[0m\u001b[0;34m\u001b[0m\u001b[0m\n\u001b[0;32m----> 3\u001b[0;31m \u001b[0msense\u001b[0m\u001b[0;34m.\u001b[0m\u001b[0mshow_letter\u001b[0m\u001b[0;34m(\u001b[0m\u001b[0;34m\"J\"\u001b[0m\u001b[0;34m)\u001b[0m\u001b[0;34m\u001b[0m\u001b[0m\n\u001b[0m\u001b[1;32m      4\u001b[0m \u001b[0;34m\u001b[0m\u001b[0m\n\u001b[1;32m      5\u001b[0m \u001b[0;32mwhile\u001b[0m \u001b[0;32mTrue\u001b[0m\u001b[0;34m:\u001b[0m\u001b[0;34m\u001b[0m\u001b[0m\n",
      "\u001b[0;31mNameError\u001b[0m: name 'sense' is not defined"
     ]
    }
   ],
   "source": [
    "\n",
    "# Display the letter J\n",
    "sense.show_letter(\"J\")\n",
    "\n",
    "while True:\n",
    "\tacceleration = sense.get_accelerometer_raw()\n",
    "\tx = acceleration['x']\n",
    "\ty = acceleration['y']\n",
    "\tz = acceleration['z']\n",
    "\n",
    "\tx=round(x, 0)\n",
    "\ty=round(y, 0)\n",
    "\tz=round(z, 0)\n",
    "\t\n",
    "\t# print(\"x={0}, y={1}, z={2}\".format(x, y, z))\n",
    "\n",
    "  # Update the rotation of the display depending on which way up the Sense HAT is\n",
    "\tif x  == -1:\n",
    "\t  sense.set_rotation(180)\n",
    "\telif y == 1:\n",
    "\t  sense.set_rotation(90)\n",
    "\telif y == -1:\n",
    "\t  sense.set_rotation(270)\n",
    "\telse:\n",
    "\t  sense.set_rotation(0)"
   ]
  },
  {
   "cell_type": "code",
   "execution_count": 46,
   "metadata": {},
   "outputs": [
    {
     "name": "stdout",
     "output_type": "stream",
     "text": [
      "pitch 11.986984554693317 roll 53.92696287479737 yaw 32.338302436801584\n",
      "pitch 11.945100127155506 roll 54.133562436811914 yaw 32.42160000882447\n",
      "pitch 11.866422324332483 roll 54.17803038340328 yaw 32.57637551051155\n",
      "pitch 11.926298323917754 roll 54.20919312149147 yaw 32.49521920279346\n",
      "pitch 11.777101379235287 roll 54.56388142999564 yaw 32.6119403055198\n",
      "pitch 11.462418342473521 roll 55.30419538884957 yaw 33.241728143224584\n",
      "pitch 41.160929504693335 roll 56.941528336685025 yaw 352.05951747662476\n",
      "pitch 31.642347141512303 roll 64.48931425637224 yaw 4.326953867507051\n",
      "pitch 28.85623101679406 roll 63.82973654860245 yaw 1.1702865333806889\n",
      "pitch 27.94083540385061 roll 65.89568435742372 yaw 4.3725658707843955\n",
      "pitch 24.10659772268994 roll 61.834371914664096 yaw 355.18917760244267\n",
      "pitch 24.705818756311622 roll 59.679419910768395 yaw 355.6739349108587\n",
      "pitch 22.366110135367073 roll 58.775191657117915 yaw 355.8560324498863\n",
      "pitch 6.899993703330281 roll 50.38312946922001 yaw 332.48433704179354\n",
      "pitch 23.633692500031184 roll 68.7910288673488 yaw 0.9236100893591528\n",
      "pitch 24.452536558867333 roll 67.62467161373158 yaw 4.4474179138985654\n",
      "pitch 36.81386926781706 roll 69.95144385638812 yaw 36.59276238400541\n",
      "pitch 38.944830232253096 roll 71.71792885123935 yaw 39.21810268585072\n",
      "pitch 39.396886302470385 roll 63.6006110227052 yaw 45.79689991327198\n",
      "pitch 27.647610260140087 roll 54.22040829210863 yaw 17.637170606900803\n",
      "pitch 23.793496728494677 roll 53.82878232057302 yaw 7.453098153449683\n",
      "pitch 359.56278937262414 roll 57.13566621855888 yaw 24.776009195317258\n",
      "pitch 359.20308927941437 roll 57.288184342725266 yaw 24.890380712969122\n",
      "pitch 359.00246794719254 roll 57.37175853740955 yaw 24.859738776805152\n",
      "pitch 358.8341214999549 roll 57.35210125297825 yaw 24.682507320674368\n",
      "pitch 358.5039852669177 roll 57.32691834550841 yaw 24.777028601050883\n",
      "pitch 358.2820985676019 roll 57.549452738856594 yaw 24.8436929548975\n",
      "pitch 357.93549997783936 roll 57.634584216671634 yaw 24.779443072922483\n",
      "pitch 357.8339521403542 roll 55.36435227996446 yaw 24.389201922241096\n",
      "pitch 357.5670684749515 roll 55.687232397503884 yaw 24.581683483241225\n",
      "pitch 357.3774690403377 roll 56.00983589238193 yaw 24.762222458477588\n",
      "pitch 357.31483044267657 roll 56.355610804019236 yaw 25.196502961379924\n",
      "pitch 356.97646351152434 roll 56.50200224850012 yaw 25.345363519245765\n",
      "pitch 356.716789324234 roll 56.72587535892563 yaw 25.356131312472293\n",
      "pitch 304.656093891316 roll 11.130520667682385 yaw 100.81086007372019\n",
      "pitch 304.56458301681613 roll 11.227290787843124 yaw 101.05191110990829\n",
      "pitch 304.418259874227 roll 10.93397002148422 yaw 101.46569763020601\n",
      "pitch 304.3968164953277 roll 10.903071099452728 yaw 101.73232089464662\n",
      "pitch 303.9630619169915 roll 10.490694159444978 yaw 102.50204223297203\n",
      "pitch 303.76232948747395 roll 10.663722487915264 yaw 102.77674561120078\n",
      "pitch 303.66876955622314 roll 10.324321850320867 yaw 103.41178927947189\n",
      "pitch 303.579516059244 roll 10.270231874736245 yaw 103.66120046720407\n",
      "pitch 303.6641591785334 roll 10.274689426943324 yaw 103.96769837601923\n",
      "pitch 303.672983782941 roll 10.246315967357445 yaw 104.31377040088543\n",
      "pitch 303.7828542059298 roll 10.354036588305009 yaw 104.36886953691992\n",
      "pitch 303.73210931549124 roll 10.021788866318907 yaw 104.95326052230621\n",
      "pitch 303.71910805040613 roll 10.142956422194935 yaw 105.16220283920607\n",
      "pitch 31.065899666130736 roll 311.11915356325136 yaw 231.02104363817534\n",
      "pitch 31.27439460563996 roll 311.42734877407526 yaw 231.38811166455017\n",
      "pitch 31.52230315175474 roll 311.60922305129435 yaw 231.57816850839495\n",
      "pitch 31.583214778772916 roll 312.1292565792262 yaw 232.07595269510549\n",
      "pitch 31.60991057314391 roll 312.5385898161851 yaw 232.42931936200526\n",
      "pitch 31.812405191467278 roll 312.8847779542672 yaw 232.86313199694945\n",
      "pitch 31.98400686417468 roll 312.9792189799209 yaw 233.15274567813634\n",
      "pitch 32.122485534502104 roll 312.89906329491623 yaw 233.17867307622572\n",
      "pitch 32.26921165825232 roll 313.2945619837113 yaw 233.5002383823499\n",
      "pitch 32.53172997900176 roll 313.656906934275 yaw 233.49424147625865\n",
      "pitch 32.57401909524789 roll 314.4107993091989 yaw 233.82188565074415\n",
      "pitch 350.68171976441874 roll 313.23908035708325 yaw 198.82002117350186\n",
      "pitch 351.05199371083523 roll 314.769940901042 yaw 199.27110052666785\n",
      "pitch 351.3926297588958 roll 314.76834605187076 yaw 200.0555477528438\n",
      "pitch 351.95674703527817 roll 314.87667626720173 yaw 200.61132024560774\n",
      "pitch 352.56887115001564 roll 315.1671847031699 yaw 201.1682265497739\n",
      "pitch 353.2038507852633 roll 315.1943347051207 yaw 201.90236260252357\n",
      "pitch 353.7395403874333 roll 315.1459223242837 yaw 202.43390158411228\n",
      "pitch 354.1756223527292 roll 315.26459003092344 yaw 202.76384070215892\n",
      "pitch 354.7094870137303 roll 315.39693860647077 yaw 203.3461143289025\n",
      "pitch 355.4447470594853 roll 314.8385194154035 yaw 204.2271267695641\n",
      "pitch 355.4321696930155 roll 315.10725662339223 yaw 204.55456603837453\n",
      "pitch 355.89345121436736 roll 315.16322660854587 yaw 204.9080283279227\n",
      "pitch 356.3050674420563 roll 314.91533172280947 yaw 205.61115532184047\n",
      "pitch 9.723188363731584 roll 316.4094629245064 yaw 218.8582389151885\n",
      "pitch 9.770244952018386 roll 316.7284805700702 yaw 219.41902476680323\n",
      "pitch 316.411836415243 roll 351.86180399072043 yaw 132.02257061825236\n",
      "pitch 316.7032361908978 roll 350.7662646997388 yaw 128.1358787918133\n",
      "pitch 316.5609975014323 roll 350.5055777234606 yaw 128.37859639415888\n",
      "pitch 316.3666137327483 roll 350.7973685274454 yaw 128.48551617542626\n",
      "pitch 316.0670108999003 roll 350.5834102903738 yaw 128.91419250811458\n",
      "pitch 315.8449409594157 roll 350.09537022228795 yaw 129.37923276794407\n",
      "pitch 315.55158433456364 roll 350.40078383857235 yaw 129.26272340108198\n",
      "pitch 315.35769916968906 roll 350.3001734445508 yaw 129.37283971088095\n",
      "pitch 315.17617664721223 roll 350.02340649541907 yaw 129.5822123296985\n",
      "pitch 315.435293533755 roll 350.2117199334782 yaw 129.58275874483212\n",
      "pitch 316.8659586176842 roll 348.4217493331659 yaw 131.31635637882974\n",
      "pitch 25.22664970882907 roll 260.78540977682513 yaw 195.8808268491053\n",
      "pitch 22.314600263741422 roll 101.0311131838856 yaw 23.23551296198695\n",
      "pitch 22.2601687786983 roll 100.83852917004792 yaw 22.882450238505236\n",
      "pitch 22.13083573166952 roll 101.04687726048999 yaw 22.747265426905052\n",
      "pitch 21.891637384293798 roll 101.19272912002644 yaw 22.82155739450728\n",
      "pitch 21.58975326826299 roll 101.35277411265818 yaw 22.648820202850363\n",
      "pitch 21.274196821061107 roll 101.32883429961728 yaw 22.550535488241174\n",
      "pitch 21.00023281081002 roll 101.33006373366788 yaw 22.422804120572764\n",
      "pitch 20.678098891437415 roll 101.46373736591421 yaw 22.168845734400644\n"
     ]
    },
    {
     "ename": "KeyboardInterrupt",
     "evalue": "",
     "output_type": "error",
     "traceback": [
      "\u001b[0;31m---------------------------------------------------------------------------\u001b[0m",
      "\u001b[0;31mKeyboardInterrupt\u001b[0m                         Traceback (most recent call last)",
      "\u001b[0;32m<ipython-input-46-c5d6dd6db72c>\u001b[0m in \u001b[0;36m<module>\u001b[0;34m()\u001b[0m\n\u001b[1;32m      6\u001b[0m     \u001b[0myaw\u001b[0m \u001b[0;34m=\u001b[0m \u001b[0mo\u001b[0m\u001b[0;34m[\u001b[0m\u001b[0;34m\"yaw\"\u001b[0m\u001b[0;34m]\u001b[0m\u001b[0;34m\u001b[0m\u001b[0m\n\u001b[1;32m      7\u001b[0m     \u001b[0mprint\u001b[0m\u001b[0;34m(\u001b[0m\u001b[0;34m\"pitch {0} roll {1} yaw {2}\"\u001b[0m\u001b[0;34m.\u001b[0m\u001b[0mformat\u001b[0m\u001b[0;34m(\u001b[0m\u001b[0mpitch\u001b[0m\u001b[0;34m,\u001b[0m \u001b[0mroll\u001b[0m\u001b[0;34m,\u001b[0m \u001b[0myaw\u001b[0m\u001b[0;34m)\u001b[0m\u001b[0;34m)\u001b[0m\u001b[0;34m\u001b[0m\u001b[0m\n\u001b[0;32m----> 8\u001b[0;31m     \u001b[0msleep\u001b[0m\u001b[0;34m(\u001b[0m\u001b[0;36m2\u001b[0m\u001b[0;34m)\u001b[0m\u001b[0;34m\u001b[0m\u001b[0m\n\u001b[0m",
      "\u001b[0;31mKeyboardInterrupt\u001b[0m: "
     ]
    }
   ],
   "source": [
    "sense.clear()\n",
    "while True:\n",
    "    o = sense.get_orientation()\n",
    "    pitch = o[\"pitch\"]\n",
    "    roll = o[\"roll\"]\n",
    "    yaw = o[\"yaw\"]\n",
    "    print(\"pitch {0} roll {1} yaw {2}\".format(pitch, roll, yaw))\n",
    "    sleep(2)"
   ]
  },
  {
   "cell_type": "code",
   "execution_count": 40,
   "metadata": {},
   "outputs": [
    {
     "ename": "KeyboardInterrupt",
     "evalue": "",
     "output_type": "error",
     "traceback": [
      "\u001b[0;31m---------------------------------------------------------------------------\u001b[0m",
      "\u001b[0;31mKeyboardInterrupt\u001b[0m                         Traceback (most recent call last)",
      "\u001b[0;32m<ipython-input-40-4d3cc8fd520b>\u001b[0m in \u001b[0;36m<module>\u001b[0;34m()\u001b[0m\n\u001b[1;32m      2\u001b[0m \u001b[0;34m\u001b[0m\u001b[0m\n\u001b[1;32m      3\u001b[0m \u001b[0;32mwhile\u001b[0m \u001b[0;32mTrue\u001b[0m\u001b[0;34m:\u001b[0m\u001b[0;34m\u001b[0m\u001b[0m\n\u001b[0;32m----> 4\u001b[0;31m     \u001b[0macceleration\u001b[0m \u001b[0;34m=\u001b[0m \u001b[0msense\u001b[0m\u001b[0;34m.\u001b[0m\u001b[0mget_accelerometer_raw\u001b[0m\u001b[0;34m(\u001b[0m\u001b[0;34m)\u001b[0m\u001b[0;34m\u001b[0m\u001b[0m\n\u001b[0m\u001b[1;32m      5\u001b[0m     \u001b[0mx\u001b[0m \u001b[0;34m=\u001b[0m \u001b[0macceleration\u001b[0m\u001b[0;34m[\u001b[0m\u001b[0;34m'x'\u001b[0m\u001b[0;34m]\u001b[0m \u001b[0;34m*\u001b[0m \u001b[0;36m0\u001b[0m\u001b[0;34m\u001b[0m\u001b[0m\n\u001b[1;32m      6\u001b[0m     \u001b[0my\u001b[0m \u001b[0;34m=\u001b[0m \u001b[0macceleration\u001b[0m\u001b[0;34m[\u001b[0m\u001b[0;34m'y'\u001b[0m\u001b[0;34m]\u001b[0m \u001b[0;34m*\u001b[0m \u001b[0;36m0\u001b[0m\u001b[0;34m\u001b[0m\u001b[0m\n",
      "\u001b[0;32m/usr/lib/python3/dist-packages/sense_hat/sense_hat.py\u001b[0m in \u001b[0;36mget_accelerometer_raw\u001b[0;34m(self)\u001b[0m\n\u001b[1;32m    842\u001b[0m         \"\"\"\n\u001b[1;32m    843\u001b[0m \u001b[0;34m\u001b[0m\u001b[0m\n\u001b[0;32m--> 844\u001b[0;31m         \u001b[0mraw\u001b[0m \u001b[0;34m=\u001b[0m \u001b[0mself\u001b[0m\u001b[0;34m.\u001b[0m\u001b[0m_get_raw_data\u001b[0m\u001b[0;34m(\u001b[0m\u001b[0;34m'accelValid'\u001b[0m\u001b[0;34m,\u001b[0m \u001b[0;34m'accel'\u001b[0m\u001b[0;34m)\u001b[0m\u001b[0;34m\u001b[0m\u001b[0m\n\u001b[0m\u001b[1;32m    845\u001b[0m \u001b[0;34m\u001b[0m\u001b[0m\n\u001b[1;32m    846\u001b[0m         \u001b[0;32mif\u001b[0m \u001b[0mraw\u001b[0m \u001b[0;32mis\u001b[0m \u001b[0;32mnot\u001b[0m \u001b[0;32mNone\u001b[0m\u001b[0;34m:\u001b[0m\u001b[0;34m\u001b[0m\u001b[0m\n",
      "\u001b[0;32m/usr/lib/python3/dist-packages/sense_hat/sense_hat.py\u001b[0m in \u001b[0;36m_get_raw_data\u001b[0;34m(self, is_valid_key, data_key)\u001b[0m\n\u001b[1;32m    701\u001b[0m         \u001b[0mresult\u001b[0m \u001b[0;34m=\u001b[0m \u001b[0;32mNone\u001b[0m\u001b[0;34m\u001b[0m\u001b[0m\n\u001b[1;32m    702\u001b[0m \u001b[0;34m\u001b[0m\u001b[0m\n\u001b[0;32m--> 703\u001b[0;31m         \u001b[0;32mif\u001b[0m \u001b[0mself\u001b[0m\u001b[0;34m.\u001b[0m\u001b[0m_read_imu\u001b[0m\u001b[0;34m(\u001b[0m\u001b[0;34m)\u001b[0m\u001b[0;34m:\u001b[0m\u001b[0;34m\u001b[0m\u001b[0m\n\u001b[0m\u001b[1;32m    704\u001b[0m             \u001b[0mdata\u001b[0m \u001b[0;34m=\u001b[0m \u001b[0mself\u001b[0m\u001b[0;34m.\u001b[0m\u001b[0m_imu\u001b[0m\u001b[0;34m.\u001b[0m\u001b[0mgetIMUData\u001b[0m\u001b[0;34m(\u001b[0m\u001b[0;34m)\u001b[0m\u001b[0;34m\u001b[0m\u001b[0m\n\u001b[1;32m    705\u001b[0m             \u001b[0;32mif\u001b[0m \u001b[0mdata\u001b[0m\u001b[0;34m[\u001b[0m\u001b[0mis_valid_key\u001b[0m\u001b[0;34m]\u001b[0m\u001b[0;34m:\u001b[0m\u001b[0;34m\u001b[0m\u001b[0m\n",
      "\u001b[0;32m/usr/lib/python3/dist-packages/sense_hat/sense_hat.py\u001b[0m in \u001b[0;36m_read_imu\u001b[0;34m(self)\u001b[0m\n\u001b[1;32m    688\u001b[0m \u001b[0;34m\u001b[0m\u001b[0m\n\u001b[1;32m    689\u001b[0m         \u001b[0;32mwhile\u001b[0m \u001b[0;32mnot\u001b[0m \u001b[0msuccess\u001b[0m \u001b[0;32mand\u001b[0m \u001b[0mattempts\u001b[0m \u001b[0;34m<\u001b[0m \u001b[0;36m3\u001b[0m\u001b[0;34m:\u001b[0m\u001b[0;34m\u001b[0m\u001b[0m\n\u001b[0;32m--> 690\u001b[0;31m             \u001b[0msuccess\u001b[0m \u001b[0;34m=\u001b[0m \u001b[0mself\u001b[0m\u001b[0;34m.\u001b[0m\u001b[0m_imu\u001b[0m\u001b[0;34m.\u001b[0m\u001b[0mIMURead\u001b[0m\u001b[0;34m(\u001b[0m\u001b[0;34m)\u001b[0m\u001b[0;34m\u001b[0m\u001b[0m\n\u001b[0m\u001b[1;32m    691\u001b[0m             \u001b[0mattempts\u001b[0m \u001b[0;34m+=\u001b[0m \u001b[0;36m1\u001b[0m\u001b[0;34m\u001b[0m\u001b[0m\n\u001b[1;32m    692\u001b[0m             \u001b[0mtime\u001b[0m\u001b[0;34m.\u001b[0m\u001b[0msleep\u001b[0m\u001b[0;34m(\u001b[0m\u001b[0mself\u001b[0m\u001b[0;34m.\u001b[0m\u001b[0m_imu_poll_interval\u001b[0m\u001b[0;34m)\u001b[0m\u001b[0;34m\u001b[0m\u001b[0m\n",
      "\u001b[0;31mKeyboardInterrupt\u001b[0m: "
     ]
    }
   ],
   "source": [
    "red = (255, 0, 0)\n",
    "\n",
    "while True:\n",
    "    acceleration = sense.get_accelerometer_raw()\n",
    "    x = acceleration['x'] * 0\n",
    "    y = acceleration['y'] * 0\n",
    "    z = acceleration['z']\n",
    "\n",
    "    x = abs(x)\n",
    "    y = abs(y)\n",
    "    z = abs(z)\n",
    "\n",
    "    if x > 1 or y > 1 or z > 1:\n",
    "        sense.show_letter(\"!\", red)\n",
    "    else:\n",
    "        sense.clear()"
   ]
  },
  {
   "cell_type": "code",
   "execution_count": 47,
   "metadata": {},
   "outputs": [
    {
     "name": "stdout",
     "output_type": "stream",
     "text": [
      "middle pressed\n",
      "middle released\n",
      "middle pressed\n",
      "middle released\n",
      "middle pressed\n",
      "middle released\n",
      "middle pressed\n",
      "middle released\n",
      "middle pressed\n",
      "middle held\n",
      "middle held\n",
      "middle held\n",
      "middle held\n",
      "middle held\n",
      "middle held\n",
      "middle held\n",
      "middle held\n",
      "middle held\n",
      "middle held\n",
      "middle held\n",
      "middle held\n",
      "middle held\n",
      "middle held\n",
      "middle held\n",
      "middle held\n",
      "middle held\n",
      "middle held\n",
      "middle held\n",
      "middle held\n",
      "middle held\n",
      "middle held\n",
      "middle held\n",
      "middle held\n",
      "middle held\n",
      "middle held\n",
      "middle held\n",
      "middle held\n",
      "middle held\n",
      "middle held\n",
      "middle held\n",
      "middle held\n",
      "middle held\n",
      "middle held\n",
      "middle held\n",
      "middle held\n",
      "middle held\n",
      "middle held\n",
      "middle held\n",
      "middle held\n",
      "middle held\n",
      "middle held\n",
      "middle held\n",
      "middle held\n",
      "middle held\n",
      "middle held\n",
      "middle held\n",
      "middle held\n",
      "middle held\n",
      "middle held\n",
      "middle held\n",
      "middle held\n",
      "middle held\n",
      "middle held\n",
      "middle held\n",
      "middle held\n",
      "middle held\n",
      "middle held\n",
      "middle held\n",
      "middle held\n",
      "middle held\n",
      "middle held\n",
      "middle held\n",
      "middle held\n",
      "middle held\n",
      "middle held\n",
      "middle held\n",
      "middle held\n",
      "middle held\n",
      "middle held\n",
      "middle held\n",
      "middle held\n",
      "middle released\n",
      "left pressed\n",
      "left released\n",
      "left pressed\n",
      "left released\n",
      "left pressed\n",
      "left released\n",
      "up pressed\n",
      "up released\n",
      "up pressed\n",
      "up released\n",
      "down pressed\n",
      "down released\n",
      "down pressed\n",
      "down released\n",
      "right pressed\n",
      "right held\n",
      "right released\n",
      "right pressed\n",
      "right released\n"
     ]
    },
    {
     "ename": "KeyboardInterrupt",
     "evalue": "",
     "output_type": "error",
     "traceback": [
      "\u001b[0;31m---------------------------------------------------------------------------\u001b[0m",
      "\u001b[0;31mKeyboardInterrupt\u001b[0m                         Traceback (most recent call last)",
      "\u001b[0;32m<ipython-input-47-2b71990cf332>\u001b[0m in \u001b[0;36m<module>\u001b[0;34m()\u001b[0m\n\u001b[1;32m      1\u001b[0m \u001b[0;32mwhile\u001b[0m \u001b[0;32mTrue\u001b[0m\u001b[0;34m:\u001b[0m\u001b[0;34m\u001b[0m\u001b[0m\n\u001b[0;32m----> 2\u001b[0;31m       \u001b[0;32mfor\u001b[0m \u001b[0mevent\u001b[0m \u001b[0;32min\u001b[0m \u001b[0msense\u001b[0m\u001b[0;34m.\u001b[0m\u001b[0mstick\u001b[0m\u001b[0;34m.\u001b[0m\u001b[0mget_events\u001b[0m\u001b[0;34m(\u001b[0m\u001b[0;34m)\u001b[0m\u001b[0;34m:\u001b[0m\u001b[0;34m\u001b[0m\u001b[0m\n\u001b[0m\u001b[1;32m      3\u001b[0m           \u001b[0mprint\u001b[0m\u001b[0;34m(\u001b[0m\u001b[0mevent\u001b[0m\u001b[0;34m.\u001b[0m\u001b[0mdirection\u001b[0m\u001b[0;34m,\u001b[0m \u001b[0mevent\u001b[0m\u001b[0;34m.\u001b[0m\u001b[0maction\u001b[0m\u001b[0;34m)\u001b[0m\u001b[0;34m\u001b[0m\u001b[0m\n",
      "\u001b[0;32m/usr/lib/python3/dist-packages/sense_hat/stick.py\u001b[0m in \u001b[0;36mget_events\u001b[0;34m(self)\u001b[0m\n\u001b[1;32m    206\u001b[0m         \"\"\"\n\u001b[1;32m    207\u001b[0m         \u001b[0mresult\u001b[0m \u001b[0;34m=\u001b[0m \u001b[0;34m[\u001b[0m\u001b[0;34m]\u001b[0m\u001b[0;34m\u001b[0m\u001b[0m\n\u001b[0;32m--> 208\u001b[0;31m         \u001b[0;32mwhile\u001b[0m \u001b[0mself\u001b[0m\u001b[0;34m.\u001b[0m\u001b[0m_wait\u001b[0m\u001b[0;34m(\u001b[0m\u001b[0;36m0\u001b[0m\u001b[0;34m)\u001b[0m\u001b[0;34m:\u001b[0m\u001b[0;34m\u001b[0m\u001b[0m\n\u001b[0m\u001b[1;32m    209\u001b[0m             \u001b[0mevent\u001b[0m \u001b[0;34m=\u001b[0m \u001b[0mself\u001b[0m\u001b[0;34m.\u001b[0m\u001b[0m_read\u001b[0m\u001b[0;34m(\u001b[0m\u001b[0;34m)\u001b[0m\u001b[0;34m\u001b[0m\u001b[0m\n\u001b[1;32m    210\u001b[0m             \u001b[0;32mif\u001b[0m \u001b[0mevent\u001b[0m\u001b[0;34m:\u001b[0m\u001b[0;34m\u001b[0m\u001b[0m\n",
      "\u001b[0;32m/usr/lib/python3/dist-packages/sense_hat/stick.py\u001b[0m in \u001b[0;36m_wait\u001b[0;34m(self, timeout)\u001b[0m\n\u001b[1;32m    120\u001b[0m         \u001b[0;32mif\u001b[0m \u001b[0mthe\u001b[0m \u001b[0mtimeout\u001b[0m \u001b[0mexpired\u001b[0m\u001b[0;34m.\u001b[0m\u001b[0;34m\u001b[0m\u001b[0m\n\u001b[1;32m    121\u001b[0m         \"\"\"\n\u001b[0;32m--> 122\u001b[0;31m         \u001b[0mr\u001b[0m\u001b[0;34m,\u001b[0m \u001b[0mw\u001b[0m\u001b[0;34m,\u001b[0m \u001b[0mx\u001b[0m \u001b[0;34m=\u001b[0m \u001b[0mselect\u001b[0m\u001b[0;34m.\u001b[0m\u001b[0mselect\u001b[0m\u001b[0;34m(\u001b[0m\u001b[0;34m[\u001b[0m\u001b[0mself\u001b[0m\u001b[0;34m.\u001b[0m\u001b[0m_stick_file\u001b[0m\u001b[0;34m]\u001b[0m\u001b[0;34m,\u001b[0m \u001b[0;34m[\u001b[0m\u001b[0;34m]\u001b[0m\u001b[0;34m,\u001b[0m \u001b[0;34m[\u001b[0m\u001b[0;34m]\u001b[0m\u001b[0;34m,\u001b[0m \u001b[0mtimeout\u001b[0m\u001b[0;34m)\u001b[0m\u001b[0;34m\u001b[0m\u001b[0m\n\u001b[0m\u001b[1;32m    123\u001b[0m         \u001b[0;32mreturn\u001b[0m \u001b[0mbool\u001b[0m\u001b[0;34m(\u001b[0m\u001b[0mr\u001b[0m\u001b[0;34m)\u001b[0m\u001b[0;34m\u001b[0m\u001b[0m\n\u001b[1;32m    124\u001b[0m \u001b[0;34m\u001b[0m\u001b[0m\n",
      "\u001b[0;31mKeyboardInterrupt\u001b[0m: "
     ]
    }
   ],
   "source": [
    "while True:\n",
    "      for event in sense.stick.get_events():\n",
    "          print(event.direction, event.action)"
   ]
  },
  {
   "cell_type": "code",
   "execution_count": 49,
   "metadata": {},
   "outputs": [
    {
     "ename": "KeyboardInterrupt",
     "evalue": "",
     "output_type": "error",
     "traceback": [
      "\u001b[0;31m---------------------------------------------------------------------------\u001b[0m",
      "\u001b[0;31mKeyboardInterrupt\u001b[0m                         Traceback (most recent call last)",
      "\u001b[0;32m<ipython-input-49-89dd76a271e9>\u001b[0m in \u001b[0;36m<module>\u001b[0;34m()\u001b[0m\n\u001b[1;32m      4\u001b[0m \u001b[0msense\u001b[0m\u001b[0;34m.\u001b[0m\u001b[0mclear\u001b[0m\u001b[0;34m(\u001b[0m\u001b[0;34m)\u001b[0m\u001b[0;34m\u001b[0m\u001b[0m\n\u001b[1;32m      5\u001b[0m \u001b[0;32mwhile\u001b[0m \u001b[0;32mTrue\u001b[0m\u001b[0;34m:\u001b[0m\u001b[0;34m\u001b[0m\u001b[0m\n\u001b[0;32m----> 6\u001b[0;31m   \u001b[0;32mfor\u001b[0m \u001b[0mevent\u001b[0m \u001b[0;32min\u001b[0m \u001b[0msense\u001b[0m\u001b[0;34m.\u001b[0m\u001b[0mstick\u001b[0m\u001b[0;34m.\u001b[0m\u001b[0mget_events\u001b[0m\u001b[0;34m(\u001b[0m\u001b[0;34m)\u001b[0m\u001b[0;34m:\u001b[0m\u001b[0;34m\u001b[0m\u001b[0m\n\u001b[0m\u001b[1;32m      7\u001b[0m     \u001b[0;31m# Check if the joystick was pressed\u001b[0m\u001b[0;34m\u001b[0m\u001b[0;34m\u001b[0m\u001b[0m\n\u001b[1;32m      8\u001b[0m     \u001b[0;32mif\u001b[0m \u001b[0mevent\u001b[0m\u001b[0;34m.\u001b[0m\u001b[0maction\u001b[0m \u001b[0;34m==\u001b[0m \u001b[0;34m\"pressed\"\u001b[0m\u001b[0;34m:\u001b[0m\u001b[0;34m\u001b[0m\u001b[0m\n",
      "\u001b[0;31mKeyboardInterrupt\u001b[0m: "
     ]
    }
   ],
   "source": [
    "e = (0, 0, 0)\n",
    "w = (255, 255, 255)\n",
    "\n",
    "sense.clear()\n",
    "while True:\n",
    "  for event in sense.stick.get_events():\n",
    "    # Check if the joystick was pressed\n",
    "    if event.action == \"pressed\":\n",
    "      \n",
    "      # Check which direction\n",
    "      if event.direction == \"up\":\n",
    "        sense.show_letter(\"U\")      # Up arrow\n",
    "      elif event.direction == \"down\":\n",
    "        sense.show_letter(\"D\")      # Down arrow\n",
    "      elif event.direction == \"left\": \n",
    "        sense.show_letter(\"L\")      # Left arrow\n",
    "      elif event.direction == \"right\":\n",
    "        sense.show_letter(\"R\")      # Right arrow\n",
    "      elif event.direction == \"middle\":\n",
    "        sense.show_letter(\"M\")      # Enter key\n",
    "      \n",
    "      # Wait a while and then clear the screen\n",
    "      try:\n",
    "        sleep(0.5)\n",
    "      except:\n",
    "        break\n",
    "      sense.clear()"
   ]
  },
  {
   "cell_type": "code",
   "execution_count": 2,
   "metadata": {},
   "outputs": [
    {
     "ename": "NameError",
     "evalue": "name 'sense' is not defined",
     "output_type": "error",
     "traceback": [
      "\u001b[0;31m---------------------------------------------------------------------------\u001b[0m",
      "\u001b[0;31mNameError\u001b[0m                                 Traceback (most recent call last)",
      "\u001b[0;32m<ipython-input-2-76b8abc4973c>\u001b[0m in \u001b[0;36m<module>\u001b[0;34m()\u001b[0m\n\u001b[1;32m     13\u001b[0m \u001b[0;34m\u001b[0m\u001b[0m\n\u001b[1;32m     14\u001b[0m \u001b[0;31m# Tell the program which function to associate with which direction\u001b[0m\u001b[0;34m\u001b[0m\u001b[0;34m\u001b[0m\u001b[0m\n\u001b[0;32m---> 15\u001b[0;31m \u001b[0msense\u001b[0m\u001b[0;34m.\u001b[0m\u001b[0mstick\u001b[0m\u001b[0;34m.\u001b[0m\u001b[0mdirection_up\u001b[0m \u001b[0;34m=\u001b[0m \u001b[0mred\u001b[0m\u001b[0;34m\u001b[0m\u001b[0m\n\u001b[0m\u001b[1;32m     16\u001b[0m \u001b[0msense\u001b[0m\u001b[0;34m.\u001b[0m\u001b[0mstick\u001b[0m\u001b[0;34m.\u001b[0m\u001b[0mdirection_down\u001b[0m \u001b[0;34m=\u001b[0m \u001b[0mblue\u001b[0m\u001b[0;34m\u001b[0m\u001b[0m\n\u001b[1;32m     17\u001b[0m \u001b[0msense\u001b[0m\u001b[0;34m.\u001b[0m\u001b[0mstick\u001b[0m\u001b[0;34m.\u001b[0m\u001b[0mdirection_left\u001b[0m \u001b[0;34m=\u001b[0m \u001b[0mgreen\u001b[0m\u001b[0;34m\u001b[0m\u001b[0m\n",
      "\u001b[0;31mNameError\u001b[0m: name 'sense' is not defined"
     ]
    }
   ],
   "source": [
    "# Define the functions\n",
    "def red():\n",
    "  sense.clear(255, 0, 0)\n",
    "\n",
    "def blue():\n",
    "  sense.clear(0, 0, 255)\n",
    "\n",
    "def green():\n",
    "  sense.clear(0, 255, 0)\n",
    "  \n",
    "def yellow():\n",
    "  sense.clear(255, 255, 0)\n",
    "\n",
    "# Tell the program which function to associate with which direction\n",
    "sense.stick.direction_up = red\n",
    "sense.stick.direction_down = blue\n",
    "sense.stick.direction_left = green\n",
    "sense.stick.direction_right = yellow\n",
    "sense.stick.direction_middle = sense.clear    # Press the enter key\n",
    "\n",
    "while True:\n",
    "  pass  # This keeps the program running to receive joystick events"
   ]
  },
  {
   "cell_type": "code",
   "execution_count": null,
   "metadata": {
    "collapsed": true
   },
   "outputs": [],
   "source": []
  }
 ],
 "metadata": {
  "kernelspec": {
   "display_name": "Python 3",
   "language": "python",
   "name": "python3"
  },
  "language_info": {
   "codemirror_mode": {
    "name": "ipython",
    "version": 3
   },
   "file_extension": ".py",
   "mimetype": "text/x-python",
   "name": "python",
   "nbconvert_exporter": "python",
   "pygments_lexer": "ipython3",
   "version": "3.4.2"
  }
 },
 "nbformat": 4,
 "nbformat_minor": 2
}
