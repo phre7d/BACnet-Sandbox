{
 "cells": [
  {
   "cell_type": "code",
   "execution_count": null,
   "metadata": {},
   "outputs": [
    {
     "name": "stdout",
     "output_type": "stream",
     "text": [
      "serving at port 8000\n"
     ]
    }
   ],
   "source": [
    "import http.server\n",
    "import socketserver\n",
    "import time\n",
    "import os\n",
    "\n",
    "PORT = 8000\n",
    "fileName = 'BatteryLog.txt'\n",
    "\n",
    "try:\n",
    "    os.remove(fileName)\n",
    "except:\n",
    "    pass\n",
    "\n",
    "class Foo(http.server.SimpleHTTPRequestHandler):\n",
    "    \n",
    "    def log_message(self, *args):\n",
    "        logTime = time.strftime(\"%Y-%m-%d %H:%M:%S\", time.localtime())\n",
    "        with open( fileName, 'a') as f:\n",
    "            print(logTime, self.client_address, file=f)\n",
    "\n",
    "Handler = Foo\n",
    "\n",
    "with socketserver.TCPServer((\"\", PORT), Handler) as httpd:\n",
    "    print(\"serving at port\", PORT)\n",
    "    httpd.serve_forever()"
   ]
  },
  {
   "cell_type": "code",
   "execution_count": null,
   "metadata": {
    "collapsed": true
   },
   "outputs": [],
   "source": []
  }
 ],
 "metadata": {
  "kernelspec": {
   "display_name": "Python 3",
   "language": "python",
   "name": "python3"
  },
  "language_info": {
   "codemirror_mode": {
    "name": "ipython",
    "version": 3
   },
   "file_extension": ".py",
   "mimetype": "text/x-python",
   "name": "python",
   "nbconvert_exporter": "python",
   "pygments_lexer": "ipython3",
   "version": "3.6.1"
  }
 },
 "nbformat": 4,
 "nbformat_minor": 2
}
