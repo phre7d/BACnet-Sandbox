{
 "cells": [
  {
   "cell_type": "markdown",
   "metadata": {},
   "source": [
    "# Brief Git Documentation\n",
    "Some concepts: A 'repository' contains the complete edit history of all files in a project,\n",
    "including all branches.  A local repository is initially 'cloned' from a remote\n",
    "repository and will likely also contain one working copy of one\n",
    "revision (usually the latest) of one branch (usually the master) - these are the files you \n",
    "actively work on.  Periodically, these are 'committed' to your local repository and periodically\n",
    "all pending commits are 'pushed' to the remote repository.  Only the working copy is normally \n",
    "visible to you."
   ]
  },
  {
   "cell_type": "markdown",
   "metadata": {},
   "source": [
    "### Workflow Method 1: Forking a 'Main' repository\n",
    "In this method, you fork the Main repository on Github, creating your own copy first on Github,\n",
    "then cloning that copy to a local repository on your workstation.  Eventually the local\n",
    "repository will have two remotes: 'remote' will refer to the forked copy on Github from\n",
    "which it was cloned, and 'upstream' will refer to the original Main repository.  Your\n",
    "local can be updated by changes from either remote."
   ]
  },
  {
   "cell_type": "markdown",
   "metadata": {},
   "source": [
    "1. On Github, navigate to the Main repository, i.e. https://github.com/nholtz/BACnet-Sandbox\n",
    "1. Press the 'Fork' link near the upper right corner of the page to create your own copy under your own Github account.  This creates a remote repository that we will refer to as 'fork'.\n",
    "1. On Github, navigate to your fork, i.e. https://github.com/xxx.yyy/BACnet-Sandbox\n",
    "1. Press the 'Clone or download' button on the right side.  It is preferable to use the URL\n",
    "provided to clone your forked repository to a 'local'copy.  At the end of that process, you\n",
    "will have a working copy of all files.\n",
    "1. Edit those files to your heart's content.  Create new files if you want.\n",
    "1. Periodically, you will want to commit a changeset to your local repository.  You will have to use git 'add' to indicate which files you want in the changeset (its not done automatically).\n",
    "Then git 'commit' adds all changes to the local repository (not the remote).\n",
    "1. Periodically, you will 'push' all changesets to the remote - i.e., to your forked copy on Github.  Then, send a 'pull request' to the owner of the Main repository, who may then merge all your changes into 'Main'."
   ]
  },
  {
   "cell_type": "markdown",
   "metadata": {},
   "source": [
    "#### Syncing your copy with 'Main'.\n",
    "The 'Main' repository may get updated with changes that you will want reflected in your copy - it doesn't happen automatically.  You will have to configure your local copy to know about the second remote (it already knows about the remote you cloned from and which you push changes to).\n",
    "\n",
    "In your local copy, add a second remote called 'upstream' and give it the URL of the main\n",
    "repository (the one you forked to make your copy).  By command line, it is something like:\n",
    "\n",
    "```\n",
    "git remote add upstream https://github.com/nholtz/BACnet-Sandbox\n",
    "```\n",
    "\n",
    "The gui will have some way of doing this.\n",
    "\n",
    "Now your local repository knows about two remotes.\n",
    "\n",
    "##### Bringing changes from Main to local:\n",
    "\n",
    "```\n",
    "git pull upstream master\n",
    "```\n",
    "\n",
    "The pull command indicates both the remote and the branch.\n",
    "\n",
    "##### Updating fork (on Github)\n",
    "\n",
    "```\n",
    "git push\n",
    "```\n"
   ]
  },
  {
   "cell_type": "markdown",
   "metadata": {},
   "source": [
    "### Workflow Method 2: Working Directly with the 'Main' repository"
   ]
  },
  {
   "cell_type": "markdown",
   "metadata": {
    "collapsed": true
   },
   "source": [
    "If the owner of the Main repository has granted you update privileges, you may work directly with that instead of forking your own copy.  That will generally make things a little simpler.\n",
    "\n",
    "1. Navigate to main repo:  ie.,  https://github.com/nholtz/BACnet-Sandbox\n",
    "1. clone to your local repo.\n",
    "1. edit files\n",
    "1. commit changesets to your local\n",
    "1. push changesets to the remote (will require username and password).\n",
    "1. frequently pull changes from remote to receive updates from others."
   ]
  },
  {
   "cell_type": "code",
   "execution_count": null,
   "metadata": {
    "collapsed": true
   },
   "outputs": [],
   "source": []
  }
 ],
 "metadata": {
  "kernelspec": {
   "display_name": "Python 3",
   "language": "python",
   "name": "python3"
  },
  "language_info": {
   "codemirror_mode": {
    "name": "ipython",
    "version": 3
   },
   "file_extension": ".py",
   "mimetype": "text/x-python",
   "name": "python",
   "nbconvert_exporter": "python",
   "pygments_lexer": "ipython3",
   "version": "3.4.2"
  }
 },
 "nbformat": 4,
 "nbformat_minor": 2
}
