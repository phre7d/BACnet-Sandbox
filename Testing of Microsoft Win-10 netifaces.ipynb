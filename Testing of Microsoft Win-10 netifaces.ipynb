{
 "cells": [
  {
   "cell_type": "code",
   "execution_count": 1,
   "metadata": {
    "collapsed": true
   },
   "outputs": [],
   "source": [
    "import netifaces as ni"
   ]
  },
  {
   "cell_type": "code",
   "execution_count": 2,
   "metadata": {
    "scrolled": true
   },
   "outputs": [
    {
     "data": {
      "text/plain": [
       "['{3F2D2CE8-34DD-4F35-BF76-8E1D4E297407}',\n",
       " '{26395DF7-30E1-11E7-BBC8-806E6F6E6963}',\n",
       " '{8DAD365C-D750-4EB2-81AE-D9774D8206E4}']"
      ]
     },
     "execution_count": 2,
     "metadata": {},
     "output_type": "execute_result"
    }
   ],
   "source": [
    "ni.interfaces()"
   ]
  },
  {
   "cell_type": "markdown",
   "metadata": {},
   "source": [
    "__Win10 Response__ \n",
    "['{3F2D2CE8-34DD-4F35-BF76-8E1D4E297407}',\n",
    " '{26395DF7-30E1-11E7-BBC8-806E6F6E6963}',\n",
    " '{8DAD365C-D750-4EB2-81AE-D9774D8206E4}']"
   ]
  },
  {
   "cell_type": "code",
   "execution_count": 3,
   "metadata": {
    "scrolled": false
   },
   "outputs": [
    {
     "data": {
      "text/plain": [
       "{-1000: [{'addr': '08:62:66:45:7c:fd'}],\n",
       " 2: [{'addr': '192.168.11.135',\n",
       "   'broadcast': '192.168.11.255',\n",
       "   'netmask': '255.255.255.0'}],\n",
       " 23: [{'addr': 'fe80::41b1:689d:2933:4a4b%5',\n",
       "   'broadcast': 'fe80::ffff:ffff:ffff:ffff%5',\n",
       "   'netmask': 'ffff:ffff:ffff:ffff::/64'}]}"
      ]
     },
     "execution_count": 3,
     "metadata": {},
     "output_type": "execute_result"
    }
   ],
   "source": [
    "ni.ifaddresses(ni.interfaces()[0])"
   ]
  },
  {
   "cell_type": "markdown",
   "metadata": {},
   "source": [
    "__Win10 Response__\n",
    "{-1000: [{'addr': '08:62:66:45:7c:fd'}],\n",
    " 2: [{'addr': '192.168.11.135',\n",
    "   'broadcast': '192.168.11.255',\n",
    "   'netmask': '255.255.255.0'}],\n",
    " 23: [{'addr': 'fe80::41b1:689d:2933:4a4b%5',\n",
    "   'broadcast': 'fe80::ffff:ffff:ffff:ffff%5',\n",
    "   'netmask': 'ffff:ffff:ffff:ffff::/64'}]}"
   ]
  },
  {
   "cell_type": "code",
   "execution_count": 4,
   "metadata": {},
   "outputs": [
    {
     "data": {
      "text/plain": [
       "{-1000: [{'addr': ''}],\n",
       " 2: [{'addr': '127.0.0.1',\n",
       "   'broadcast': '127.255.255.255',\n",
       "   'netmask': '255.0.0.0'}],\n",
       " 23: [{'addr': '::1',\n",
       "   'broadcast': '::1',\n",
       "   'netmask': 'ffff:ffff:ffff:ffff:ffff:ffff:ffff:ffff/128'}]}"
      ]
     },
     "execution_count": 4,
     "metadata": {},
     "output_type": "execute_result"
    }
   ],
   "source": [
    "ni.ifaddresses(ni.interfaces()[1])"
   ]
  },
  {
   "cell_type": "markdown",
   "metadata": {},
   "source": [
    "__Win10 Response__\n",
    "{-1000: [{'addr': ''}],\n",
    " 2: [{'addr': '127.0.0.1',\n",
    "   'broadcast': '127.255.255.255',\n",
    "   'netmask': '255.0.0.0'}],\n",
    " 23: [{'addr': '::1',\n",
    "   'broadcast': '::1',\n",
    "   'netmask': 'ffff:ffff:ffff:ffff:ffff:ffff:ffff:ffff/128'}]}"
   ]
  },
  {
   "cell_type": "code",
   "execution_count": 5,
   "metadata": {
    "scrolled": true
   },
   "outputs": [
    {
     "data": {
      "text/plain": [
       "{-1000: [{'addr': '00:00:00:00:00:00:00:e0'}],\n",
       " 23: [{'addr': '2001:0:5ef5:79fb:242d:366a:718f:1259',\n",
       "   'broadcast': '2001:0:ffff:ffff:ffff:ffff:ffff:ffff',\n",
       "   'netmask': 'ffff:ffff::/32'},\n",
       "  {'addr': 'fe80::242d:366a:718f:1259%9',\n",
       "   'broadcast': 'fe80::ffff:ffff:ffff:ffff%9',\n",
       "   'netmask': 'ffff:ffff:ffff:ffff::/64'}]}"
      ]
     },
     "execution_count": 5,
     "metadata": {},
     "output_type": "execute_result"
    }
   ],
   "source": [
    "ni.ifaddresses(ni.interfaces()[2])"
   ]
  },
  {
   "cell_type": "markdown",
   "metadata": {},
   "source": [
    "__Win10 Response__\n",
    "{-1000: [{'addr': '00:00:00:00:00:00:00:e0'}],\n",
    " 23: [{'addr': '2001:0:5ef5:79fb:242d:366a:718f:1259',\n",
    "   'broadcast': '2001:0:ffff:ffff:ffff:ffff:ffff:ffff',\n",
    "   'netmask': 'ffff:ffff::/32'},\n",
    "  {'addr': 'fe80::242d:366a:718f:1259%9',\n",
    "   'broadcast': 'fe80::ffff:ffff:ffff:ffff%9',\n",
    "   'netmask': 'ffff:ffff:ffff:ffff::/64'}]}"
   ]
  },
  {
   "cell_type": "code",
   "execution_count": 6,
   "metadata": {},
   "outputs": [
    {
     "name": "stdout",
     "output_type": "stream",
     "text": [
      "-1000\n"
     ]
    }
   ],
   "source": [
    "print(ni.AF_LINK)"
   ]
  },
  {
   "cell_type": "markdown",
   "metadata": {},
   "source": [
    "__Win10 Response__\n",
    "-1000"
   ]
  },
  {
   "cell_type": "code",
   "execution_count": 7,
   "metadata": {},
   "outputs": [
    {
     "data": {
      "text/plain": [
       "[{'addr': '192.168.11.135',\n",
       "  'broadcast': '192.168.11.255',\n",
       "  'netmask': '255.255.255.0'}]"
      ]
     },
     "execution_count": 7,
     "metadata": {},
     "output_type": "execute_result"
    }
   ],
   "source": [
    "addrs=ni.ifaddresses(ni.interfaces()[0])\n",
    "addrs[ni.AF_INET]"
   ]
  },
  {
   "cell_type": "markdown",
   "metadata": {},
   "source": [
    "__Win10 Response__\n",
    "[{'addr': '192.168.11.135',\n",
    "  'broadcast': '192.168.11.255',\n",
    "  'netmask': '255.255.255.0'}]"
   ]
  },
  {
   "cell_type": "code",
   "execution_count": 8,
   "metadata": {},
   "outputs": [
    {
     "data": {
      "text/plain": [
       "[{'addr': '127.0.0.1', 'broadcast': '127.255.255.255', 'netmask': '255.0.0.0'}]"
      ]
     },
     "execution_count": 8,
     "metadata": {},
     "output_type": "execute_result"
    }
   ],
   "source": [
    "addrs=ni.ifaddresses(ni.interfaces()[1])\n",
    "addrs[ni.AF_INET]"
   ]
  },
  {
   "cell_type": "markdown",
   "metadata": {},
   "source": [
    "__Win10 Response__\n",
    "[{'addr': '127.0.0.1', 'broadcast': '127.255.255.255', 'netmask': '255.0.0.0'}]"
   ]
  }
 ],
 "metadata": {
  "kernelspec": {
   "display_name": "Python 3",
   "language": "python",
   "name": "python3"
  },
  "language_info": {
   "codemirror_mode": {
    "name": "ipython",
    "version": 3
   },
   "file_extension": ".py",
   "mimetype": "text/x-python",
   "name": "python",
   "nbconvert_exporter": "python",
   "pygments_lexer": "ipython3",
   "version": "3.6.1"
  }
 },
 "nbformat": 4,
 "nbformat_minor": 2
}
