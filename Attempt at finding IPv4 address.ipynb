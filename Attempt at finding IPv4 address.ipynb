{
 "cells": [
  {
   "cell_type": "code",
   "execution_count": 1,
   "metadata": {
    "collapsed": true
   },
   "outputs": [],
   "source": [
    "import netifaces as ni\n",
    "import ipaddress as ip\n"
   ]
  },
  {
   "cell_type": "code",
   "execution_count": 2,
   "metadata": {},
   "outputs": [
    {
     "name": "stdout",
     "output_type": "stream",
     "text": [
      "192.168.11.60 255.255.255.0 eth0\n",
      "192.168.11.61 255.255.255.0 wlan0\n"
     ]
    }
   ],
   "source": [
    "for x in ni.interfaces(): #for each interface on the system\n",
    "    try:\n",
    "        addrs=ni.ifaddresses(x) # obtain all addresses\n",
    "        ipaddr = addrs[ni.AF_INET][0]['addr']  # IPv4 addressing (use AF_INET6 for IPv6)\n",
    "        ipmask = addrs[ni.AF_INET][0]['netmask']  # IPv4 addressing (use AF_INET6 for IPv6)\n",
    "        if ipaddr.startswith( '127.'):\n",
    "            continue\n",
    "        print(ipaddr, ipmask, x)\n",
    "    except:\n",
    "        pass # skip all errors as some devices have no AF_INET\n",
    "#        ip.ip_address('192.168.1.1').version"
   ]
  },
  {
   "cell_type": "code",
   "execution_count": 3,
   "metadata": {},
   "outputs": [
    {
     "data": {
      "text/plain": [
       "['lo', 'eth0', 'wlan0']"
      ]
     },
     "execution_count": 3,
     "metadata": {},
     "output_type": "execute_result"
    }
   ],
   "source": [
    "ni.interfaces()\n"
   ]
  },
  {
   "cell_type": "code",
   "execution_count": 5,
   "metadata": {},
   "outputs": [
    {
     "data": {
      "text/plain": [
       "'192.168.11.61/24'"
      ]
     },
     "execution_count": 5,
     "metadata": {},
     "output_type": "execute_result"
    }
   ],
   "source": [
    "def DiscoverIP():\n",
    "    try:\n",
    "        import netifaces as ni\n",
    "    except ImportError:\n",
    "        print('Please install Modules \"netifaces\"')\n",
    "        raise\n",
    "    try:\n",
    "        import ipaddress as ip\n",
    "    except ImportError:\n",
    "        print('Please install Module \"ipaddress\"')\n",
    "        raise\n",
    "    \n",
    "    for x in ni.interfaces(): #for each interface on the system\n",
    "        try:\n",
    "            addrs=ni.ifaddresses(x) # obtain all addresses\n",
    "            ipaddr = addrs[ni.AF_INET][0]['addr']  # IPv4 addressing (use AF_INET6 for IPv6)\n",
    "            ipmask = addrs[ni.AF_INET][0]['netmask']  # IPv4 addressing (use AF_INET6 for IPv6)\n",
    "            if ipaddr.startswith( '127.'):\n",
    "                continue\n",
    "            return ipaddr+'/'+ str(ip.IPv4Network(ipaddr+'/'+ipmask, strict=False).prefixlen)\n",
    "        except:\n",
    "            pass # skip all errors as some devices have no AF_INET\n",
    "\n",
    "DiscoverIP()"
   ]
  },
  {
   "cell_type": "code",
   "execution_count": null,
   "metadata": {},
   "outputs": [],
   "source": [
    "\n"
   ]
  }
 ],
 "metadata": {
  "kernelspec": {
   "display_name": "Python 3",
   "language": "python",
   "name": "python3"
  },
  "language_info": {
   "codemirror_mode": {
    "name": "ipython",
    "version": 3
   },
   "file_extension": ".py",
   "mimetype": "text/x-python",
   "name": "python",
   "nbconvert_exporter": "python",
   "pygments_lexer": "ipython3",
   "version": "3.4.2"
  }
 },
 "nbformat": 4,
 "nbformat_minor": 2
}
