{
 "cells": [
  {
   "cell_type": "code",
   "execution_count": 3,
   "metadata": {},
   "outputs": [],
   "source": [
    "import netifaces as ni\n",
    "import ipaddress as ip\n"
   ]
  },
  {
   "cell_type": "code",
   "execution_count": 36,
   "metadata": {},
   "outputs": [
    {
     "name": "stdout",
     "output_type": "stream",
     "text": [
      "127.0.0.1 255.0.0.0 lo\n",
      "192.168.11.57 255.255.255.0 wlan0\n"
     ]
    }
   ],
   "source": [
    "for x in ni.interfaces(): #for each interface on the system\n",
    "    try:\n",
    "        addrs=ni.ifaddresses(x) # obtain all addresses\n",
    "        ipaddr = addrs[ni.AF_INET][0]['addr']  # IPv4 addressing (use AF_INET6 for IPv6)\n",
    "        ipmask = addrs[ni.AF_INET][0]['netmask']  # IPv4 addressing (use AF_INET6 for IPv6)\n",
    "        print(ipaddr, ipmask, x)\n",
    "    except:\n",
    "        pass # skip all errors as some devices have no AF_INET\n",
    "#        ip.ip_address('192.168.1.1').version"
   ]
  },
  {
   "cell_type": "code",
   "execution_count": 15,
   "metadata": {},
   "outputs": [
    {
     "data": {
      "text/plain": [
       "['lo', 'eth0', 'wlan0']"
      ]
     },
     "execution_count": 15,
     "metadata": {},
     "output_type": "execute_result"
    }
   ],
   "source": [
    "ni.interfaces()\n"
   ]
  },
  {
   "cell_type": "code",
   "execution_count": null,
   "metadata": {
    "collapsed": true
   },
   "outputs": [],
   "source": []
  }
 ],
 "metadata": {
  "kernelspec": {
   "display_name": "Python 3",
   "language": "python",
   "name": "python3"
  },
  "language_info": {
   "codemirror_mode": {
    "name": "ipython",
    "version": 3
   },
   "file_extension": ".py",
   "mimetype": "text/x-python",
   "name": "python",
   "nbconvert_exporter": "python",
   "pygments_lexer": "ipython3",
   "version": "3.4.2"
  }
 },
 "nbformat": 4,
 "nbformat_minor": 2
}
