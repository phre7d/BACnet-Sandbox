{
 "cells": [
  {
   "cell_type": "code",
   "execution_count": 15,
   "metadata": {},
   "outputs": [],
   "source": [
    "import netifaces as ni\n",
    "import ipaddress as ip\n",
    "\n",
    "def findIPaddr( af_num = ni.AF_INET):\n",
    "    \n",
    "    skipaddrs = [\n",
    "                {ni.AF_INET: '127.0.0.1', ni.AF_INET6: '::1'},\n",
    "                {ni.AF_INET: '127.0.0.1', ni.AF_INET6: '0:0:0:0:0:0:0:1'}\n",
    "                ]\n",
    "    \n",
    "    for x in ni.interfaces(): #for each interface on the system\n",
    "        try:\n",
    "            skippedaddr=False\n",
    "            addrs=ni.ifaddresses(x) # obtain all addresses for a device\n",
    "            ipaddr = addrs[af_num][0]['addr']  # (use AF_INET for IPv4, AF_INET6 for IPv6)\n",
    "            for y in skipaddrs:\n",
    "                if ( ipaddr  == y[af_num]): \n",
    "                    skippedaddr=True\n",
    "                    break\n",
    "            if (skippedaddr): break\n",
    "            realIPaddr = ipaddr\n",
    "                \n",
    "            ipmask = addrs[af_num][0]['netmask'] # (use AF_INET for IPv4, AF_INET6 for IPv6)\n",
    "#            print(ipaddr, ipmask, x)\n",
    "            \n",
    "            return(realIPaddr)\n",
    "        except:\n",
    "            pass # skip all errors as some devices have no AF_INET\n",
    "    #        ip.ip_address('192.168.1.1').version    "
   ]
  },
  {
   "cell_type": "code",
   "execution_count": 16,
   "metadata": {},
   "outputs": [
    {
     "name": "stdout",
     "output_type": "stream",
     "text": [
      "192.168.11.135 255.255.255.0 {3F2D2CE8-34DD-4F35-BF76-8E1D4E297407}\n",
      "192.168.11.135\n"
     ]
    }
   ],
   "source": [
    "print( findIPaddr() )\n",
    "# ni.interfaces()\n"
   ]
  },
  {
   "cell_type": "code",
   "execution_count": null,
   "metadata": {
    "collapsed": true
   },
   "outputs": [],
   "source": []
  }
 ],
 "metadata": {
  "kernelspec": {
   "display_name": "Python 3",
   "language": "python",
   "name": "python3"
  },
  "language_info": {
   "codemirror_mode": {
    "name": "ipython",
    "version": 3
   },
   "file_extension": ".py",
   "mimetype": "text/x-python",
   "name": "python",
   "nbconvert_exporter": "python",
   "pygments_lexer": "ipython3",
   "version": "3.6.1"
  }
 },
 "nbformat": 4,
 "nbformat_minor": 2
}
