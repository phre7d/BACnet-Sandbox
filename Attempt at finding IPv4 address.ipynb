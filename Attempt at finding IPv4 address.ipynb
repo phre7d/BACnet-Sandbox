{
 "cells": [
  {
   "cell_type": "code",
<<<<<<< HEAD
=======
<<<<<<< HEAD
   "execution_count": 1,
   "metadata": {
    "collapsed": true
   },
   "outputs": [],
   "source": [
    "import netifaces as ni\n",
    "import ipaddress as ip\n"
=======
>>>>>>> eedab5263cb72904297c800ef1b6883b6daff412
   "execution_count": 15,
   "metadata": {},
   "outputs": [],
   "source": [
    "import netifaces as ni\n",
    "import ipaddress as ip\n",
    "\n",
    "def findIPaddr( af_num = ni.AF_INET):\n",
    "    \n",
    "    skipaddrs = [\n",
    "                {ni.AF_INET: '127.0.0.1', ni.AF_INET6: '::1'},\n",
    "                {ni.AF_INET: '127.0.0.1', ni.AF_INET6: '0:0:0:0:0:0:0:1'}\n",
    "                ]\n",
    "    \n",
    "    for x in ni.interfaces(): #for each interface on the system\n",
    "        try:\n",
    "            skippedaddr=False\n",
    "            addrs=ni.ifaddresses(x) # obtain all addresses for a device\n",
    "            ipaddr = addrs[af_num][0]['addr']  # (use AF_INET for IPv4, AF_INET6 for IPv6)\n",
    "            for y in skipaddrs:\n",
    "                if ( ipaddr  == y[af_num]): \n",
    "                    skippedaddr=True\n",
    "                    break\n",
    "            if (skippedaddr): break\n",
    "            realIPaddr = ipaddr\n",
    "                \n",
    "            ipmask = addrs[af_num][0]['netmask'] # (use AF_INET for IPv4, AF_INET6 for IPv6)\n",
    "#            print(ipaddr, ipmask, x)\n",
    "            \n",
    "            return(realIPaddr)\n",
    "        except:\n",
    "            pass # skip all errors as some devices have no AF_INET\n",
    "    #        ip.ip_address('192.168.1.1').version    "
<<<<<<< HEAD
=======
>>>>>>> 0b72215dada2bba0888b4843845b79ec9253f64c
>>>>>>> eedab5263cb72904297c800ef1b6883b6daff412
   ]
  },
  {
   "cell_type": "code",
<<<<<<< HEAD
   "execution_count": 16,
=======
<<<<<<< HEAD
   "execution_count": 2,
=======
   "execution_count": 16,
>>>>>>> 0b72215dada2bba0888b4843845b79ec9253f64c
>>>>>>> eedab5263cb72904297c800ef1b6883b6daff412
   "metadata": {},
   "outputs": [
    {
     "name": "stdout",
     "output_type": "stream",
     "text": [
<<<<<<< HEAD
      "192.168.11.135 255.255.255.0 {3F2D2CE8-34DD-4F35-BF76-8E1D4E297407}\n",
      "192.168.11.135\n"
=======
<<<<<<< HEAD
      "192.168.11.60 255.255.255.0 eth0\n",
      "192.168.11.61 255.255.255.0 wlan0\n"
=======
      "192.168.11.135 255.255.255.0 {3F2D2CE8-34DD-4F35-BF76-8E1D4E297407}\n",
      "192.168.11.135\n"
>>>>>>> 0b72215dada2bba0888b4843845b79ec9253f64c
>>>>>>> eedab5263cb72904297c800ef1b6883b6daff412
     ]
    }
   ],
   "source": [
<<<<<<< HEAD
    "print( findIPaddr() )\n",
    "# ni.interfaces()\n"
=======
<<<<<<< HEAD
    "for x in ni.interfaces(): #for each interface on the system\n",
    "    try:\n",
    "        addrs=ni.ifaddresses(x) # obtain all addresses\n",
    "        ipaddr = addrs[ni.AF_INET][0]['addr']  # IPv4 addressing (use AF_INET6 for IPv6)\n",
    "        ipmask = addrs[ni.AF_INET][0]['netmask']  # IPv4 addressing (use AF_INET6 for IPv6)\n",
    "        if ipaddr.startswith( '127.'):\n",
    "            continue\n",
    "        print(ipaddr, ipmask, x)\n",
    "    except:\n",
    "        pass # skip all errors as some devices have no AF_INET\n",
    "#        ip.ip_address('192.168.1.1').version"
   ]
  },
  {
   "cell_type": "code",
   "execution_count": 3,
   "metadata": {},
   "outputs": [
    {
     "data": {
      "text/plain": [
       "['lo', 'eth0', 'wlan0']"
      ]
     },
     "execution_count": 3,
     "metadata": {},
     "output_type": "execute_result"
    }
   ],
   "source": [
    "ni.interfaces()\n"
   ]
  },
  {
   "cell_type": "code",
   "execution_count": 5,
   "metadata": {},
   "outputs": [
    {
     "data": {
      "text/plain": [
       "'192.168.11.61/24'"
      ]
     },
     "execution_count": 5,
     "metadata": {},
     "output_type": "execute_result"
    }
   ],
   "source": [
    "def DiscoverIP():\n",
    "    try:\n",
    "        import netifaces as ni\n",
    "    except ImportError:\n",
    "        print('Please install Modules \"netifaces\"')\n",
    "        raise\n",
    "    try:\n",
    "        import ipaddress as ip\n",
    "    except ImportError:\n",
    "        print('Please install Module \"ipaddress\"')\n",
    "        raise\n",
    "    \n",
    "    for x in ni.interfaces(): #for each interface on the system\n",
    "        try:\n",
    "            addrs=ni.ifaddresses(x) # obtain all addresses\n",
    "            ipaddr = addrs[ni.AF_INET][0]['addr']  # IPv4 addressing (use AF_INET6 for IPv6)\n",
    "            ipmask = addrs[ni.AF_INET][0]['netmask']  # IPv4 addressing (use AF_INET6 for IPv6)\n",
    "            if ipaddr.startswith( '127.'):\n",
    "                continue\n",
    "            return ipaddr+'/'+ str(ip.IPv4Network(ipaddr+'/'+ipmask, strict=False).prefixlen)\n",
    "        except:\n",
    "            pass # skip all errors as some devices have no AF_INET\n",
    "\n",
    "DiscoverIP()"
=======
    "print( findIPaddr() )\n",
    "# ni.interfaces()\n"
>>>>>>> 0b72215dada2bba0888b4843845b79ec9253f64c
>>>>>>> eedab5263cb72904297c800ef1b6883b6daff412
   ]
  },
  {
   "cell_type": "code",
   "execution_count": null,
<<<<<<< HEAD
=======
<<<<<<< HEAD
   "metadata": {},
   "outputs": [],
   "source": [
    "\n"
   ]
=======
>>>>>>> eedab5263cb72904297c800ef1b6883b6daff412
   "metadata": {
    "collapsed": true
   },
   "outputs": [],
   "source": []
<<<<<<< HEAD
=======
>>>>>>> 0b72215dada2bba0888b4843845b79ec9253f64c
>>>>>>> eedab5263cb72904297c800ef1b6883b6daff412
  }
 ],
 "metadata": {
  "kernelspec": {
   "display_name": "Python 3",
   "language": "python",
   "name": "python3"
  },
  "language_info": {
   "codemirror_mode": {
    "name": "ipython",
    "version": 3
   },
   "file_extension": ".py",
   "mimetype": "text/x-python",
   "name": "python",
   "nbconvert_exporter": "python",
   "pygments_lexer": "ipython3",
<<<<<<< HEAD
   "version": "3.6.1"
=======
<<<<<<< HEAD
   "version": "3.4.2"
=======
   "version": "3.6.1"
>>>>>>> 0b72215dada2bba0888b4843845b79ec9253f64c
>>>>>>> eedab5263cb72904297c800ef1b6883b6daff412
  }
 },
 "nbformat": 4,
 "nbformat_minor": 2
}
