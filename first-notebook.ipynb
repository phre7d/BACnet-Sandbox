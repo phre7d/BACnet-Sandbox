{
 "cells": [
  {
   "cell_type": "markdown",
   "metadata": {},
   "source": [
    "## First Notebook\n",
    "Created and added to fork by nealholtz, then pulled by nholtz, edited, and put back."
   ]
  },
  {
   "cell_type": "code",
   "execution_count": 5,
   "metadata": {
    "collapsed": true
   },
   "outputs": [],
   "source": [
    "import bacpypes as bp"
   ]
  },
  {
   "cell_type": "code",
   "execution_count": 8,
   "metadata": {},
   "outputs": [
    {
     "data": {
      "text/plain": [
       "['__author__',\n",
       " '__builtins__',\n",
       " '__doc__',\n",
       " '__email__',\n",
       " '__file__',\n",
       " '__name__',\n",
       " '__package__',\n",
       " '__path__',\n",
       " '__version__',\n",
       " '_supported_platforms',\n",
       " '_sys',\n",
       " '_warnings',\n",
       " 'analysis',\n",
       " 'apdu',\n",
       " 'app',\n",
       " 'appservice',\n",
       " 'basetypes',\n",
       " 'bsll',\n",
       " 'bsllservice',\n",
       " 'bvll',\n",
       " 'bvllservice',\n",
       " 'capability',\n",
       " 'comm',\n",
       " 'constructeddata',\n",
       " 'core',\n",
       " 'debugging',\n",
       " 'errors',\n",
       " 'event',\n",
       " 'iocb',\n",
       " 'netservice',\n",
       " 'npdu',\n",
       " 'object',\n",
       " 'pdu',\n",
       " 'primitivedata',\n",
       " 'service',\n",
       " 'singleton',\n",
       " 'task',\n",
       " 'tcp',\n",
       " 'udp',\n",
       " 'vlan']"
      ]
     },
     "execution_count": 8,
     "metadata": {},
     "output_type": "execute_result"
    }
   ],
   "source": [
    "dir(bp)"
   ]
  },
  {
   "cell_type": "code",
   "execution_count": 10,
   "metadata": {},
   "outputs": [
    {
     "data": {
      "text/plain": [
       "'0.16.2'"
      ]
     },
     "execution_count": 10,
     "metadata": {},
     "output_type": "execute_result"
    }
   ],
   "source": [
    "bp.__version__"
   ]
  },
  {
   "cell_type": "code",
   "execution_count": null,
   "metadata": {
    "collapsed": true
   },
   "outputs": [],
   "source": []
  }
 ],
 "metadata": {
  "kernelspec": {
   "display_name": "Python 3",
   "language": "python",
   "name": "python3"
  },
  "language_info": {
   "codemirror_mode": {
    "name": "ipython",
    "version": 3
   },
   "file_extension": ".py",
   "mimetype": "text/x-python",
   "name": "python",
   "nbconvert_exporter": "python",
   "pygments_lexer": "ipython3",
   "version": "3.4.2"
  }
 },
 "nbformat": 4,
 "nbformat_minor": 2
}
