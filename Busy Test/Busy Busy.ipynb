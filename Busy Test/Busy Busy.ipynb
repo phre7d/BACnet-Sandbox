{
 "cells": [
  {
   "cell_type": "code",
   "execution_count": 1,
   "metadata": {},
   "outputs": [
    {
     "ename": "KeyboardInterrupt",
     "evalue": "",
     "output_type": "error",
     "traceback": [
      "\u001b[0;31m---------------------------------------------------------------------------\u001b[0m",
      "\u001b[0;31mKeyboardInterrupt\u001b[0m                         Traceback (most recent call last)",
      "\u001b[0;32m<ipython-input-1-a103d3dfe2f1>\u001b[0m in \u001b[0;36m<module>\u001b[0;34m()\u001b[0m\n\u001b[1;32m     22\u001b[0m \u001b[0;34m\u001b[0m\u001b[0m\n\u001b[1;32m     23\u001b[0m \u001b[0;32mwhile\u001b[0m \u001b[0;32mTrue\u001b[0m\u001b[0;34m:\u001b[0m\u001b[0;34m\u001b[0m\u001b[0m\n\u001b[0;32m---> 24\u001b[0;31m     \u001b[0msleep\u001b[0m\u001b[0;34m(\u001b[0m\u001b[0;36m0.1\u001b[0m\u001b[0;34m)\u001b[0m\u001b[0;34m\u001b[0m\u001b[0m\n\u001b[0m\u001b[1;32m     25\u001b[0m     \u001b[0msense\u001b[0m\u001b[0;34m.\u001b[0m\u001b[0mflip_h\u001b[0m\u001b[0;34m(\u001b[0m\u001b[0;34m)\u001b[0m\u001b[0;34m\u001b[0m\u001b[0m\n",
      "\u001b[0;31mKeyboardInterrupt\u001b[0m: "
     ]
    }
   ],
   "source": [
    "from sense_hat import SenseHat\n",
    "from time import sleep\n",
    "\n",
    "sense = SenseHat()\n",
    "\n",
    "w = (150, 150, 150)\n",
    "b = (0, 0, 255)\n",
    "e = (0, 0, 0)\n",
    "\n",
    "image = [\n",
    "e,e,e,e,e,e,e,e,\n",
    "e,e,e,e,e,e,e,e,\n",
    "w,w,w,e,e,w,w,w,\n",
    "w,w,b,e,e,w,w,b,\n",
    "w,w,w,e,e,w,w,w,\n",
    "e,e,e,e,e,e,e,e,\n",
    "e,e,e,e,e,e,e,e,\n",
    "e,e,e,e,e,e,e,e\n",
    "]\n",
    "\n",
    "sense.set_pixels(image)\n",
    "\n",
    "while True:\n",
    "    sleep(0.1)\n",
    "    sense.flip_h()"
   ]
  },
  {
   "cell_type": "code",
   "execution_count": null,
   "metadata": {
    "collapsed": true
   },
   "outputs": [],
   "source": []
  }
 ],
 "metadata": {
  "kernelspec": {
   "display_name": "Python 3",
   "language": "python",
   "name": "python3"
  },
  "language_info": {
   "codemirror_mode": {
    "name": "ipython",
    "version": 3
   },
   "file_extension": ".py",
   "mimetype": "text/x-python",
   "name": "python",
   "nbconvert_exporter": "python",
   "pygments_lexer": "ipython3",
   "version": "3.4.2"
  }
 },
 "nbformat": 4,
 "nbformat_minor": 2
}
